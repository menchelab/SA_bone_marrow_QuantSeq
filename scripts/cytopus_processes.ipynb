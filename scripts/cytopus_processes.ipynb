{
 "cells": [
  {
   "cell_type": "code",
   "execution_count": 1,
   "id": "eccf925e",
   "metadata": {},
   "outputs": [
    {
     "name": "stdout",
     "output_type": "stream",
     "text": [
      "Defaulting to user installation because normal site-packages is not writeable\n",
      "Collecting cytopus\n",
      "  Downloading cytopus-1.3.4.tar.gz (559 kB)\n",
      "\u001b[2K     \u001b[38;2;114;156;31m━━━━━━━━━━━━━━━━━━━━━━━━━━━━━━━━━━━━━━━\u001b[0m \u001b[32m559.3/559.3 KB\u001b[0m \u001b[31m2.3 MB/s\u001b[0m eta \u001b[36m0:00:00\u001b[0m MB/s\u001b[0m eta \u001b[36m0:00:01\u001b[0m:01\u001b[0m\n",
      "\u001b[?25h  Preparing metadata (setup.py) ... \u001b[?25ldone\n",
      "\u001b[?25hRequirement already satisfied: networkx>2.7 in /home/ahakobyan/.local/lib/python3.10/site-packages (from cytopus) (3.0)\n",
      "Requirement already satisfied: numpy>1.2 in /usr/lib/python3/dist-packages (from cytopus) (1.21.5)\n",
      "Building wheels for collected packages: cytopus\n",
      "  Building wheel for cytopus (setup.py) ... \u001b[?25ldone\n",
      "\u001b[?25h  Created wheel for cytopus: filename=cytopus-1.3.4-py3-none-any.whl size=563549 sha256=8c37f79274d5496e1ef815ca7d76322d63c6dc04349bb1d029a46256fee85c2c\n",
      "  Stored in directory: /home/ahakobyan/.cache/pip/wheels/2c/b4/ff/d50124f73c7164c31cc9a7fd7ff6d022f0684dc80bf70189b8\n",
      "Successfully built cytopus\n",
      "Installing collected packages: cytopus\n",
      "Successfully installed cytopus-1.3.4\n",
      "Note: you may need to restart the kernel to use updated packages.\n"
     ]
    }
   ],
   "source": [
    "%pip install cytopus"
   ]
  },
  {
   "cell_type": "code",
   "execution_count": 6,
   "id": "e177462f",
   "metadata": {},
   "outputs": [],
   "source": [
    "import cytopus as cp\n",
    "import pandas as pd\n",
    "import numpy as np"
   ]
  },
  {
   "cell_type": "code",
   "execution_count": 4,
   "id": "616c5464",
   "metadata": {},
   "outputs": [],
   "source": [
    "import os"
   ]
  },
  {
   "cell_type": "code",
   "execution_count": 5,
   "id": "a63318b5",
   "metadata": {},
   "outputs": [
    {
     "data": {
      "text/plain": [
       "'/home/ahakobyan/ClusterProjects/realGit/SA_Quantseq2/scripts'"
      ]
     },
     "execution_count": 5,
     "metadata": {},
     "output_type": "execute_result"
    }
   ],
   "source": [
    "os.getcwd()"
   ]
  },
  {
   "cell_type": "code",
   "execution_count": null,
   "id": "8628ed9a",
   "metadata": {},
   "outputs": [],
   "source": [
    "DATA_DIR = \"../cytopus/\"\n",
    "gene_sets_path = DATA_DIR + '/Cytopus_1.31nc_gene-sets_x_genes.csv'\n",
    "#path to dataframe containing metadata about the gene sets\n",
    "metadata_path = DATA_DIR + '/Cytopus_1.31nc_versions_metadata.csv'\n",
    "#path tto dataframe containing the cell type hierarchy\n",
    "cellular_hierarchies_path = DATA_DIR + '/Cytopus_1.31nc_hierarchies.csv'"
   ]
  },
  {
   "cell_type": "code",
   "execution_count": 3,
   "id": "a507c520",
   "metadata": {},
   "outputs": [
    {
     "ename": "NameError",
     "evalue": "name 'cellular_hierarchies_path' is not defined",
     "output_type": "error",
     "traceback": [
      "\u001b[0;31m---------------------------------------------------------------------------\u001b[0m",
      "\u001b[0;31mNameError\u001b[0m                                 Traceback (most recent call last)",
      "\u001b[0;32m/tmp/ipykernel_30329/646178893.py\u001b[0m in \u001b[0;36m<module>\u001b[0;34m\u001b[0m\n\u001b[1;32m      1\u001b[0m \u001b[0;31m#here we import this information from a dataframe storing the child nodes in column index 0 and parent nodes in column index 1.\u001b[0m\u001b[0;34m\u001b[0m\u001b[0;34m\u001b[0m\u001b[0m\n\u001b[0;32m----> 2\u001b[0;31m \u001b[0mcellular_hierarchies\u001b[0m\u001b[0;34m=\u001b[0m \u001b[0mpd\u001b[0m\u001b[0;34m.\u001b[0m\u001b[0mread_csv\u001b[0m\u001b[0;34m(\u001b[0m\u001b[0mcellular_hierarchies_path\u001b[0m\u001b[0;34m)\u001b[0m\u001b[0;34m\u001b[0m\u001b[0;34m\u001b[0m\u001b[0m\n\u001b[0m\u001b[1;32m      3\u001b[0m \u001b[0mcellular_hierarchies\u001b[0m\u001b[0;34m.\u001b[0m\u001b[0mhead\u001b[0m\u001b[0;34m(\u001b[0m\u001b[0;34m)\u001b[0m\u001b[0;34m\u001b[0m\u001b[0;34m\u001b[0m\u001b[0m\n",
      "\u001b[0;31mNameError\u001b[0m: name 'cellular_hierarchies_path' is not defined"
     ]
    }
   ],
   "source": [
    "#here we import this information from a dataframe storing the child nodes in column index 0 and parent nodes in column index 1.\n",
    "cellular_hierarchies= pd.read_csv(cellular_hierarchies_path)\n",
    "cellular_hierarchies.head()"
   ]
  },
  {
   "cell_type": "code",
   "execution_count": 8,
   "id": "10c82604",
   "metadata": {},
   "outputs": [
    {
     "name": "stdout",
     "output_type": "stream",
     "text": [
      "KnowledgeBase object containing 92 cell types and 201 cellular processes\n",
      "\n"
     ]
    }
   ],
   "source": [
    "import cytopus as cp\n",
    "G = cp.KnowledgeBase()"
   ]
  },
  {
   "cell_type": "code",
   "execution_count": 14,
   "id": "2c961355",
   "metadata": {},
   "outputs": [
    {
     "data": {
      "text/plain": [
       "['all_chondroitine-and-heparan-sulfate_synthesis',\n",
       " 'all_retinol_metabolism',\n",
       " 'all_RIG-I-like-receptor_signaling',\n",
       " 'leuko_transendothelial-migration',\n",
       " 'all_propanoate_metabolism',\n",
       " 'NSCLC-carcinoma-cell_TGFB1_response',\n",
       " 'all_p53-signaling',\n",
       " 'all_autophagy-selective',\n",
       " 'all_circadian-rhythm',\n",
       " 'all_VAL-LEU-ILE_metabolism',\n",
       " 'M_IL17A_response',\n",
       " 'all_taurine-hypotaurine_metabolism',\n",
       " 'B_IgM-ligation_response',\n",
       " 'all_microautophagy-lysosomal',\n",
       " 'all_transmembrane-transport-ER',\n",
       " 'all_macroautophagy_regulation_positive',\n",
       " 'all_TYR_metabolism',\n",
       " 'all_SASP',\n",
       " 'all_histone-methylation',\n",
       " 'all_TNF-via-NFkB_signaling',\n",
       " 'all_iron-uptake-and-storage',\n",
       " 'all_n-glycan_synthesis',\n",
       " 'all_transmembrane-transport-golgi',\n",
       " 'all_PHE_metabolism',\n",
       " 'Treg_FoxP3-stabilization',\n",
       " 'all_riboflavin_metabolism',\n",
       " 'all_polyamines_metabolism',\n",
       " 'all_PI3K-AKT-mTOR_signaling',\n",
       " 'all_inositol-phosphate_metabolism',\n",
       " 'all_DNA-demethylation',\n",
       " 'fibro_IL4_response',\n",
       " 'all_wnt-beta-catenin-signaling',\n",
       " 'M_mac_CSF1_response',\n",
       " 'all_lactate_production',\n",
       " 'T_IL4_response',\n",
       " 'all_complement_production',\n",
       " 'all_n-glycan_degradation',\n",
       " 'all_porphyrine-heme_metabolism',\n",
       " 'all_glycogenesis',\n",
       " 'all_heparan-sulfate_degradation',\n",
       " 'all_creatinine_metabolism',\n",
       " 'all_GPI-anchor_synthesis',\n",
       " 'all_type-II-ifn-response',\n",
       " 'all_glycogenolysis',\n",
       " 'all_G2M-transition',\n",
       " 'B_Breg_UP',\n",
       " 'fibro_BMP4_response',\n",
       " 'all_IL6-JAK-STAT3_signaling',\n",
       " 'all_MHC-II-presentation',\n",
       " 'all_hypoxia-response',\n",
       " 'all_biotin_metabolism',\n",
       " 'all_autophagy-of-mitochondria',\n",
       " 'all_urea-cycle',\n",
       " 'all_pyrimidine_metabolism',\n",
       " 'all_actin-cytoskeleton_regulation',\n",
       " 'all_nucleotide_metabolism',\n",
       " 'all_LYS_metabolism',\n",
       " 'all_type-I-ifn-response',\n",
       " 'lung-epi_TGFB1_response',\n",
       " 'all_autophagy-peroxisome',\n",
       " 'all_galactose_metabolism',\n",
       " 'CD4-T_TH17_UP',\n",
       " 'all_citric-acid-cycle',\n",
       " 'all_ubiquinone_synthesis',\n",
       " 'fibro_EGF_response',\n",
       " 'all_hedgehog_signaling',\n",
       " 'M_angiogenic-effectors',\n",
       " 'all_autophagy-of-mitochondria_regulation_positive',\n",
       " 'T_tcr-activation',\n",
       " 'all_macroautophagy',\n",
       " 'CD8-T_terminal-exhaustion',\n",
       " 'all_lipophagy',\n",
       " 'all_steroid_metabolism',\n",
       " 'all_unfolded-protein-response',\n",
       " 'all_thiamin_metabolism',\n",
       " 'all_GLU_metabolism',\n",
       " 'all_Beta-Ala_metabolism',\n",
       " 'all_hyaluronan_metabolism',\n",
       " 'all_mitophagy_regulation_positive',\n",
       " 'all_exocytosis',\n",
       " 'lung-epi_IL13_response',\n",
       " 'CD4-T_IL4_response',\n",
       " 'all_CYS_metabolism',\n",
       " 'CD8-T_progenitor-exhaustion_UP',\n",
       " 'lung-smooth-muscle_TGFB1_response',\n",
       " 'all_DNA-methylation',\n",
       " 'mast_granule-exocytosis',\n",
       " 'all_platelet-activation-factor_production',\n",
       " 'all_pyroptosis',\n",
       " 'all_ARG-PRO_metabolism',\n",
       " 'all_pentose-phosphate-pathway',\n",
       " 'all_glyoxylate-dicarboxylate_metabolism',\n",
       " 'neutro_CXCL8_response',\n",
       " 'all_NOTCH_signaling',\n",
       " 'all_protein-degradation-proteasome',\n",
       " 'all_mTORC1_signaling',\n",
       " 'fibro_IGF1_response',\n",
       " 'all_glycerophospholipid_metabolism',\n",
       " 'all_JAK-STAT_signaling',\n",
       " 'all_DNA-repair',\n",
       " 'all_glutathione_metabolism',\n",
       " 'all_cholesterol-homeostasis',\n",
       " 'all_peroxisome-component',\n",
       " 'all_MET_metabolism',\n",
       " 'all_nucleophagy-late',\n",
       " 'CD4-T_TH2_UP',\n",
       " 'all_pyrimidine_synthesis',\n",
       " 'all_transmembrane-transport-lysosome',\n",
       " 'CD4-T_TH9_UP',\n",
       " 'all_MYC_targets',\n",
       " 'Mac_IFNG_response',\n",
       " 'all_mitophagy',\n",
       " 'all_autophagy_regulation_positive',\n",
       " 'all_sphingolipid_metabolism',\n",
       " 'lung-epi_IL4_response',\n",
       " 'endo_VEGFC_response',\n",
       " 'all_fatty-acid-metabolism',\n",
       " 'all_triacylglycerol_synthesis',\n",
       " 'all_thrombolysis-factor_production',\n",
       " 'CD4-T_TH22_UP',\n",
       " 'TNK_cytotoxicity-effectors',\n",
       " 'all_amino-sugar-nucleotide-sugar_metabolism',\n",
       " 'all_cyclic-nucleotide_metabolism',\n",
       " 'all_keratan-sulfate_synthesis',\n",
       " 'all_mitotic-spindle-component',\n",
       " 'all_chondroitine-sulfate_degradation',\n",
       " 'Mac_CSF1_response',\n",
       " 'all_fructose-mannose_metabolism',\n",
       " 'all_fatty-acid-beta-oxidation-peroxisomal',\n",
       " 'Mac_IL4-IL13_response',\n",
       " 'CD8-T_IL12_response',\n",
       " 'all_phosphoinositide_signaling',\n",
       " 'TNK_IL2-STAT5-signaling',\n",
       " 'Mac_LPS_response',\n",
       " 'all_autophagy-chaperone-mediated',\n",
       " 'all_ascorbate-uptake',\n",
       " 'all_ketone-body_metabolism',\n",
       " 'all_keratan-sulfate_degradation',\n",
       " 'all_autophagic-cell-death',\n",
       " 'all_GABA-shunt',\n",
       " 'B_effector-2_UP',\n",
       " 'all_reticulophagy',\n",
       " 'all_MHC-I-presentation',\n",
       " 'all_cholesterol_metabolism',\n",
       " 'all_apoptosis',\n",
       " 'all_autophagy-nucleus',\n",
       " 'all_ALA-ASP_metabolism',\n",
       " 'all_ROS-detoxification',\n",
       " 'all_xenobiotics_metabolism',\n",
       " 'all_purine_metabolism',\n",
       " 'DC_LPS_response',\n",
       " 'all_bile-acid_synthesis',\n",
       " 'all_CoA_synthesis',\n",
       " 'DC_antigen-crosspresentation',\n",
       " 'all_multidrug-resistance',\n",
       " 'all_osmotic-stress-response',\n",
       " 'all_HIS_metabolism',\n",
       " 'TNK_IL2_response',\n",
       " 'all_G1S-transition',\n",
       " 'all_pterin_synthesis',\n",
       " 'all_selenoamino-acid_metabolism',\n",
       " 'all_oxidative-phosphorylation',\n",
       " 'all_purine_synthesis',\n",
       " 'all_TRP_metabolism',\n",
       " 'CD8-T_tumor-reactive-like_UP',\n",
       " 'all_glycolysis',\n",
       " 'all_cytosolic-DNA-sensing_signaling',\n",
       " 'all_pyruvate_metabolism',\n",
       " 'endo_VEGFA_response',\n",
       " 'all_NAD_metabolism',\n",
       " 'all_coagulation-factor_production',\n",
       " 'all_TCA-cycle',\n",
       " 'all_ros_response',\n",
       " 'lung-epi_IL17A-IL22_response',\n",
       " 'all_transmembrane-transport-mitochondrial',\n",
       " 'all_o-glycan_synthesis',\n",
       " 'all_DNA_synthesis',\n",
       " 'fibro_IL13_response',\n",
       " 'all_glycerin-SER-THR_metabolism',\n",
       " 'fibro_IL1B_response',\n",
       " 'leuko_ROS_production',\n",
       " 'all_carnitine-shuttle',\n",
       " 'all_ethanol_metabolism',\n",
       " 'all_TGFb_response',\n",
       " 'B_effector-1_UP',\n",
       " 'TNK_PD-1_signaling',\n",
       " 'all_TLR_signaling',\n",
       " 'mast_mast-cell-granule-effectors',\n",
       " 'all_fatty-acid_synthesis',\n",
       " 'fibro_TGFB1_response',\n",
       " 'NK_IL15_response',\n",
       " 'all_folate_metabolism',\n",
       " 'all_CYP_metabolism',\n",
       " 'T_IL21_response',\n",
       " 'p-DC_CpG-TLR9_response',\n",
       " 'all_NOD-like-receptor_signaling',\n",
       " 'all_eicosanoid_metabolism',\n",
       " 'CD4-T_IL12_response',\n",
       " 'all_fatty-acid-beta-oxidation-mitochondrial',\n",
       " 'all_posttranslation-modification',\n",
       " 'all_transmembrane-transport-cellmembrane']"
      ]
     },
     "execution_count": 14,
     "metadata": {},
     "output_type": "execute_result"
    }
   ],
   "source": [
    "list(G.processes.keys())"
   ]
  },
  {
   "cell_type": "code",
   "execution_count": 15,
   "id": "0e387f5c",
   "metadata": {},
   "outputs": [],
   "source": [
    "gene_set_dir = \"../data/gene_sets/\""
   ]
  },
  {
   "cell_type": "code",
   "execution_count": null,
   "id": "3835515f",
   "metadata": {},
   "outputs": [],
   "source": [
    "with open (gene_set_dir + \"cytopus_processes.txt\", 'w') as f:\n",
    "\n",
    "    for gs in G.processes.keys():\n",
    "        gene_list = G.processes[gs]\n",
    "        line = \"\\t\".join(gene_list)\n",
    "        line = \"\\t\".join (lis)"
   ]
  }
 ],
 "metadata": {
  "kernelspec": {
   "display_name": "Python 3 (ipykernel)",
   "language": "python",
   "name": "python3"
  },
  "language_info": {
   "codemirror_mode": {
    "name": "ipython",
    "version": 3
   },
   "file_extension": ".py",
   "mimetype": "text/x-python",
   "name": "python",
   "nbconvert_exporter": "python",
   "pygments_lexer": "ipython3",
   "version": "3.10.12"
  }
 },
 "nbformat": 4,
 "nbformat_minor": 5
}
