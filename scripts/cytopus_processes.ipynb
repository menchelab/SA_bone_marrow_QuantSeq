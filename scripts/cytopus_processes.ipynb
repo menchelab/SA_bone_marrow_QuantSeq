{
 "cells": [
  {
   "cell_type": "code",
   "execution_count": 1,
   "id": "eccf925e",
   "metadata": {},
   "outputs": [
    {
     "name": "stdout",
     "output_type": "stream",
     "text": [
      "Defaulting to user installation because normal site-packages is not writeable\n",
      "Requirement already satisfied: cytopus in /home/ahakobyan/.local/lib/python3.10/site-packages (1.3.4)\n",
      "Requirement already satisfied: numpy>1.2 in /usr/lib/python3/dist-packages (from cytopus) (1.21.5)\n",
      "Requirement already satisfied: networkx>2.7 in /home/ahakobyan/.local/lib/python3.10/site-packages (from cytopus) (3.0)\n",
      "Note: you may need to restart the kernel to use updated packages.\n"
     ]
    }
   ],
   "source": [
    "%pip install cytopus"
   ]
  },
  {
   "cell_type": "code",
   "execution_count": 2,
   "id": "e177462f",
   "metadata": {},
   "outputs": [],
   "source": [
    "import cytopus as cp\n",
    "import pandas as pd\n",
    "import numpy as np"
   ]
  },
  {
   "cell_type": "code",
   "execution_count": 3,
   "id": "616c5464",
   "metadata": {},
   "outputs": [],
   "source": [
    "import os"
   ]
  },
  {
   "cell_type": "code",
   "execution_count": 4,
   "id": "a63318b5",
   "metadata": {},
   "outputs": [
    {
     "data": {
      "text/plain": [
       "'/home/ahakobyan/ClusterProjects/realGit/SA_Quantseq2/scripts'"
      ]
     },
     "execution_count": 4,
     "metadata": {},
     "output_type": "execute_result"
    }
   ],
   "source": [
    "os.getcwd()"
   ]
  },
  {
   "cell_type": "code",
   "execution_count": 5,
   "id": "8628ed9a",
   "metadata": {},
   "outputs": [],
   "source": [
    "DATA_DIR = \"../cytopus/\"\n",
    "gene_sets_path = DATA_DIR + '/Cytopus_1.31nc_gene-sets_x_genes.csv'\n",
    "#path to dataframe containing metadata about the gene sets\n",
    "metadata_path = DATA_DIR + '/Cytopus_1.31nc_versions_metadata.csv'\n",
    "#path tto dataframe containing the cell type hierarchy\n",
    "cellular_hierarchies_path = DATA_DIR + '/Cytopus_1.31nc_hierarchies.csv'"
   ]
  },
  {
   "cell_type": "code",
   "execution_count": 6,
   "id": "a507c520",
   "metadata": {
    "collapsed": true
   },
   "outputs": [
    {
     "ename": "FileNotFoundError",
     "evalue": "[Errno 2] No such file or directory: '../cytopus//Cytopus_1.31nc_hierarchies.csv'",
     "output_type": "error",
     "traceback": [
      "\u001b[0;31m---------------------------------------------------------------------------\u001b[0m",
      "\u001b[0;31mFileNotFoundError\u001b[0m                         Traceback (most recent call last)",
      "\u001b[0;32m/tmp/ipykernel_25934/646178893.py\u001b[0m in \u001b[0;36m<module>\u001b[0;34m\u001b[0m\n\u001b[1;32m      1\u001b[0m \u001b[0;31m#here we import this information from a dataframe storing the child nodes in column index 0 and parent nodes in column index 1.\u001b[0m\u001b[0;34m\u001b[0m\u001b[0;34m\u001b[0m\u001b[0m\n\u001b[0;32m----> 2\u001b[0;31m \u001b[0mcellular_hierarchies\u001b[0m\u001b[0;34m=\u001b[0m \u001b[0mpd\u001b[0m\u001b[0;34m.\u001b[0m\u001b[0mread_csv\u001b[0m\u001b[0;34m(\u001b[0m\u001b[0mcellular_hierarchies_path\u001b[0m\u001b[0;34m)\u001b[0m\u001b[0;34m\u001b[0m\u001b[0;34m\u001b[0m\u001b[0m\n\u001b[0m\u001b[1;32m      3\u001b[0m \u001b[0mcellular_hierarchies\u001b[0m\u001b[0;34m.\u001b[0m\u001b[0mhead\u001b[0m\u001b[0;34m(\u001b[0m\u001b[0;34m)\u001b[0m\u001b[0;34m\u001b[0m\u001b[0;34m\u001b[0m\u001b[0m\n",
      "\u001b[0;32m~/.local/lib/python3.10/site-packages/pandas/util/_decorators.py\u001b[0m in \u001b[0;36mwrapper\u001b[0;34m(*args, **kwargs)\u001b[0m\n\u001b[1;32m    309\u001b[0m                     \u001b[0mstacklevel\u001b[0m\u001b[0;34m=\u001b[0m\u001b[0mstacklevel\u001b[0m\u001b[0;34m,\u001b[0m\u001b[0;34m\u001b[0m\u001b[0;34m\u001b[0m\u001b[0m\n\u001b[1;32m    310\u001b[0m                 )\n\u001b[0;32m--> 311\u001b[0;31m             \u001b[0;32mreturn\u001b[0m \u001b[0mfunc\u001b[0m\u001b[0;34m(\u001b[0m\u001b[0;34m*\u001b[0m\u001b[0margs\u001b[0m\u001b[0;34m,\u001b[0m \u001b[0;34m**\u001b[0m\u001b[0mkwargs\u001b[0m\u001b[0;34m)\u001b[0m\u001b[0;34m\u001b[0m\u001b[0;34m\u001b[0m\u001b[0m\n\u001b[0m\u001b[1;32m    312\u001b[0m \u001b[0;34m\u001b[0m\u001b[0m\n\u001b[1;32m    313\u001b[0m         \u001b[0;32mreturn\u001b[0m \u001b[0mwrapper\u001b[0m\u001b[0;34m\u001b[0m\u001b[0;34m\u001b[0m\u001b[0m\n",
      "\u001b[0;32m~/.local/lib/python3.10/site-packages/pandas/io/parsers/readers.py\u001b[0m in \u001b[0;36mread_csv\u001b[0;34m(filepath_or_buffer, sep, delimiter, header, names, index_col, usecols, squeeze, prefix, mangle_dupe_cols, dtype, engine, converters, true_values, false_values, skipinitialspace, skiprows, skipfooter, nrows, na_values, keep_default_na, na_filter, verbose, skip_blank_lines, parse_dates, infer_datetime_format, keep_date_col, date_parser, dayfirst, cache_dates, iterator, chunksize, compression, thousands, decimal, lineterminator, quotechar, quoting, doublequote, escapechar, comment, encoding, encoding_errors, dialect, error_bad_lines, warn_bad_lines, on_bad_lines, delim_whitespace, low_memory, memory_map, float_precision, storage_options)\u001b[0m\n\u001b[1;32m    678\u001b[0m     \u001b[0mkwds\u001b[0m\u001b[0;34m.\u001b[0m\u001b[0mupdate\u001b[0m\u001b[0;34m(\u001b[0m\u001b[0mkwds_defaults\u001b[0m\u001b[0;34m)\u001b[0m\u001b[0;34m\u001b[0m\u001b[0;34m\u001b[0m\u001b[0m\n\u001b[1;32m    679\u001b[0m \u001b[0;34m\u001b[0m\u001b[0m\n\u001b[0;32m--> 680\u001b[0;31m     \u001b[0;32mreturn\u001b[0m \u001b[0m_read\u001b[0m\u001b[0;34m(\u001b[0m\u001b[0mfilepath_or_buffer\u001b[0m\u001b[0;34m,\u001b[0m \u001b[0mkwds\u001b[0m\u001b[0;34m)\u001b[0m\u001b[0;34m\u001b[0m\u001b[0;34m\u001b[0m\u001b[0m\n\u001b[0m\u001b[1;32m    681\u001b[0m \u001b[0;34m\u001b[0m\u001b[0m\n\u001b[1;32m    682\u001b[0m \u001b[0;34m\u001b[0m\u001b[0m\n",
      "\u001b[0;32m~/.local/lib/python3.10/site-packages/pandas/io/parsers/readers.py\u001b[0m in \u001b[0;36m_read\u001b[0;34m(filepath_or_buffer, kwds)\u001b[0m\n\u001b[1;32m    573\u001b[0m \u001b[0;34m\u001b[0m\u001b[0m\n\u001b[1;32m    574\u001b[0m     \u001b[0;31m# Create the parser.\u001b[0m\u001b[0;34m\u001b[0m\u001b[0;34m\u001b[0m\u001b[0m\n\u001b[0;32m--> 575\u001b[0;31m     \u001b[0mparser\u001b[0m \u001b[0;34m=\u001b[0m \u001b[0mTextFileReader\u001b[0m\u001b[0;34m(\u001b[0m\u001b[0mfilepath_or_buffer\u001b[0m\u001b[0;34m,\u001b[0m \u001b[0;34m**\u001b[0m\u001b[0mkwds\u001b[0m\u001b[0;34m)\u001b[0m\u001b[0;34m\u001b[0m\u001b[0;34m\u001b[0m\u001b[0m\n\u001b[0m\u001b[1;32m    576\u001b[0m \u001b[0;34m\u001b[0m\u001b[0m\n\u001b[1;32m    577\u001b[0m     \u001b[0;32mif\u001b[0m \u001b[0mchunksize\u001b[0m \u001b[0;32mor\u001b[0m \u001b[0miterator\u001b[0m\u001b[0;34m:\u001b[0m\u001b[0;34m\u001b[0m\u001b[0;34m\u001b[0m\u001b[0m\n",
      "\u001b[0;32m~/.local/lib/python3.10/site-packages/pandas/io/parsers/readers.py\u001b[0m in \u001b[0;36m__init__\u001b[0;34m(self, f, engine, **kwds)\u001b[0m\n\u001b[1;32m    932\u001b[0m \u001b[0;34m\u001b[0m\u001b[0m\n\u001b[1;32m    933\u001b[0m         \u001b[0mself\u001b[0m\u001b[0;34m.\u001b[0m\u001b[0mhandles\u001b[0m\u001b[0;34m:\u001b[0m \u001b[0mIOHandles\u001b[0m \u001b[0;34m|\u001b[0m \u001b[0;32mNone\u001b[0m \u001b[0;34m=\u001b[0m \u001b[0;32mNone\u001b[0m\u001b[0;34m\u001b[0m\u001b[0;34m\u001b[0m\u001b[0m\n\u001b[0;32m--> 934\u001b[0;31m         \u001b[0mself\u001b[0m\u001b[0;34m.\u001b[0m\u001b[0m_engine\u001b[0m \u001b[0;34m=\u001b[0m \u001b[0mself\u001b[0m\u001b[0;34m.\u001b[0m\u001b[0m_make_engine\u001b[0m\u001b[0;34m(\u001b[0m\u001b[0mf\u001b[0m\u001b[0;34m,\u001b[0m \u001b[0mself\u001b[0m\u001b[0;34m.\u001b[0m\u001b[0mengine\u001b[0m\u001b[0;34m)\u001b[0m\u001b[0;34m\u001b[0m\u001b[0;34m\u001b[0m\u001b[0m\n\u001b[0m\u001b[1;32m    935\u001b[0m \u001b[0;34m\u001b[0m\u001b[0m\n\u001b[1;32m    936\u001b[0m     \u001b[0;32mdef\u001b[0m \u001b[0mclose\u001b[0m\u001b[0;34m(\u001b[0m\u001b[0mself\u001b[0m\u001b[0;34m)\u001b[0m\u001b[0;34m:\u001b[0m\u001b[0;34m\u001b[0m\u001b[0;34m\u001b[0m\u001b[0m\n",
      "\u001b[0;32m~/.local/lib/python3.10/site-packages/pandas/io/parsers/readers.py\u001b[0m in \u001b[0;36m_make_engine\u001b[0;34m(self, f, engine)\u001b[0m\n\u001b[1;32m   1216\u001b[0m             \u001b[0;31m# \"Union[str, PathLike[str], ReadCsvBuffer[bytes], ReadCsvBuffer[str]]\"\u001b[0m\u001b[0;34m\u001b[0m\u001b[0;34m\u001b[0m\u001b[0m\n\u001b[1;32m   1217\u001b[0m             \u001b[0;31m# , \"str\", \"bool\", \"Any\", \"Any\", \"Any\", \"Any\", \"Any\"\u001b[0m\u001b[0;34m\u001b[0m\u001b[0;34m\u001b[0m\u001b[0m\n\u001b[0;32m-> 1218\u001b[0;31m             self.handles = get_handle(  # type: ignore[call-overload]\n\u001b[0m\u001b[1;32m   1219\u001b[0m                 \u001b[0mf\u001b[0m\u001b[0;34m,\u001b[0m\u001b[0;34m\u001b[0m\u001b[0;34m\u001b[0m\u001b[0m\n\u001b[1;32m   1220\u001b[0m                 \u001b[0mmode\u001b[0m\u001b[0;34m,\u001b[0m\u001b[0;34m\u001b[0m\u001b[0;34m\u001b[0m\u001b[0m\n",
      "\u001b[0;32m~/.local/lib/python3.10/site-packages/pandas/io/common.py\u001b[0m in \u001b[0;36mget_handle\u001b[0;34m(path_or_buf, mode, encoding, compression, memory_map, is_text, errors, storage_options)\u001b[0m\n\u001b[1;32m    784\u001b[0m         \u001b[0;32mif\u001b[0m \u001b[0mioargs\u001b[0m\u001b[0;34m.\u001b[0m\u001b[0mencoding\u001b[0m \u001b[0;32mand\u001b[0m \u001b[0;34m\"b\"\u001b[0m \u001b[0;32mnot\u001b[0m \u001b[0;32min\u001b[0m \u001b[0mioargs\u001b[0m\u001b[0;34m.\u001b[0m\u001b[0mmode\u001b[0m\u001b[0;34m:\u001b[0m\u001b[0;34m\u001b[0m\u001b[0;34m\u001b[0m\u001b[0m\n\u001b[1;32m    785\u001b[0m             \u001b[0;31m# Encoding\u001b[0m\u001b[0;34m\u001b[0m\u001b[0;34m\u001b[0m\u001b[0m\n\u001b[0;32m--> 786\u001b[0;31m             handle = open(\n\u001b[0m\u001b[1;32m    787\u001b[0m                 \u001b[0mhandle\u001b[0m\u001b[0;34m,\u001b[0m\u001b[0;34m\u001b[0m\u001b[0;34m\u001b[0m\u001b[0m\n\u001b[1;32m    788\u001b[0m                 \u001b[0mioargs\u001b[0m\u001b[0;34m.\u001b[0m\u001b[0mmode\u001b[0m\u001b[0;34m,\u001b[0m\u001b[0;34m\u001b[0m\u001b[0;34m\u001b[0m\u001b[0m\n",
      "\u001b[0;31mFileNotFoundError\u001b[0m: [Errno 2] No such file or directory: '../cytopus//Cytopus_1.31nc_hierarchies.csv'"
     ]
    }
   ],
   "source": [
    "#here we import this information from a dataframe storing the child nodes in column index 0 and parent nodes in column index 1.\n",
    "cellular_hierarchies= pd.read_csv(cellular_hierarchies_path)\n",
    "cellular_hierarchies.head()"
   ]
  },
  {
   "cell_type": "code",
   "execution_count": 7,
   "id": "10c82604",
   "metadata": {},
   "outputs": [
    {
     "name": "stdout",
     "output_type": "stream",
     "text": [
      "KnowledgeBase object containing 92 cell types and 201 cellular processes\n",
      "\n"
     ]
    }
   ],
   "source": [
    "import cytopus as cp\n",
    "G = cp.KnowledgeBase()"
   ]
  },
  {
   "cell_type": "code",
   "execution_count": 14,
   "id": "2c961355",
   "metadata": {},
   "outputs": [
    {
     "data": {
      "text/plain": [
       "['all_chondroitine-and-heparan-sulfate_synthesis',\n",
       " 'all_retinol_metabolism',\n",
       " 'all_RIG-I-like-receptor_signaling',\n",
       " 'leuko_transendothelial-migration',\n",
       " 'all_propanoate_metabolism',\n",
       " 'NSCLC-carcinoma-cell_TGFB1_response',\n",
       " 'all_p53-signaling',\n",
       " 'all_autophagy-selective',\n",
       " 'all_circadian-rhythm',\n",
       " 'all_VAL-LEU-ILE_metabolism',\n",
       " 'M_IL17A_response',\n",
       " 'all_taurine-hypotaurine_metabolism',\n",
       " 'B_IgM-ligation_response',\n",
       " 'all_microautophagy-lysosomal',\n",
       " 'all_transmembrane-transport-ER',\n",
       " 'all_macroautophagy_regulation_positive',\n",
       " 'all_TYR_metabolism',\n",
       " 'all_SASP',\n",
       " 'all_histone-methylation',\n",
       " 'all_TNF-via-NFkB_signaling',\n",
       " 'all_iron-uptake-and-storage',\n",
       " 'all_n-glycan_synthesis',\n",
       " 'all_transmembrane-transport-golgi',\n",
       " 'all_PHE_metabolism',\n",
       " 'Treg_FoxP3-stabilization',\n",
       " 'all_riboflavin_metabolism',\n",
       " 'all_polyamines_metabolism',\n",
       " 'all_PI3K-AKT-mTOR_signaling',\n",
       " 'all_inositol-phosphate_metabolism',\n",
       " 'all_DNA-demethylation',\n",
       " 'fibro_IL4_response',\n",
       " 'all_wnt-beta-catenin-signaling',\n",
       " 'M_mac_CSF1_response',\n",
       " 'all_lactate_production',\n",
       " 'T_IL4_response',\n",
       " 'all_complement_production',\n",
       " 'all_n-glycan_degradation',\n",
       " 'all_porphyrine-heme_metabolism',\n",
       " 'all_glycogenesis',\n",
       " 'all_heparan-sulfate_degradation',\n",
       " 'all_creatinine_metabolism',\n",
       " 'all_GPI-anchor_synthesis',\n",
       " 'all_type-II-ifn-response',\n",
       " 'all_glycogenolysis',\n",
       " 'all_G2M-transition',\n",
       " 'B_Breg_UP',\n",
       " 'fibro_BMP4_response',\n",
       " 'all_IL6-JAK-STAT3_signaling',\n",
       " 'all_MHC-II-presentation',\n",
       " 'all_hypoxia-response',\n",
       " 'all_biotin_metabolism',\n",
       " 'all_autophagy-of-mitochondria',\n",
       " 'all_urea-cycle',\n",
       " 'all_pyrimidine_metabolism',\n",
       " 'all_actin-cytoskeleton_regulation',\n",
       " 'all_nucleotide_metabolism',\n",
       " 'all_LYS_metabolism',\n",
       " 'all_type-I-ifn-response',\n",
       " 'lung-epi_TGFB1_response',\n",
       " 'all_autophagy-peroxisome',\n",
       " 'all_galactose_metabolism',\n",
       " 'CD4-T_TH17_UP',\n",
       " 'all_citric-acid-cycle',\n",
       " 'all_ubiquinone_synthesis',\n",
       " 'fibro_EGF_response',\n",
       " 'all_hedgehog_signaling',\n",
       " 'M_angiogenic-effectors',\n",
       " 'all_autophagy-of-mitochondria_regulation_positive',\n",
       " 'T_tcr-activation',\n",
       " 'all_macroautophagy',\n",
       " 'CD8-T_terminal-exhaustion',\n",
       " 'all_lipophagy',\n",
       " 'all_steroid_metabolism',\n",
       " 'all_unfolded-protein-response',\n",
       " 'all_thiamin_metabolism',\n",
       " 'all_GLU_metabolism',\n",
       " 'all_Beta-Ala_metabolism',\n",
       " 'all_hyaluronan_metabolism',\n",
       " 'all_mitophagy_regulation_positive',\n",
       " 'all_exocytosis',\n",
       " 'lung-epi_IL13_response',\n",
       " 'CD4-T_IL4_response',\n",
       " 'all_CYS_metabolism',\n",
       " 'CD8-T_progenitor-exhaustion_UP',\n",
       " 'lung-smooth-muscle_TGFB1_response',\n",
       " 'all_DNA-methylation',\n",
       " 'mast_granule-exocytosis',\n",
       " 'all_platelet-activation-factor_production',\n",
       " 'all_pyroptosis',\n",
       " 'all_ARG-PRO_metabolism',\n",
       " 'all_pentose-phosphate-pathway',\n",
       " 'all_glyoxylate-dicarboxylate_metabolism',\n",
       " 'neutro_CXCL8_response',\n",
       " 'all_NOTCH_signaling',\n",
       " 'all_protein-degradation-proteasome',\n",
       " 'all_mTORC1_signaling',\n",
       " 'fibro_IGF1_response',\n",
       " 'all_glycerophospholipid_metabolism',\n",
       " 'all_JAK-STAT_signaling',\n",
       " 'all_DNA-repair',\n",
       " 'all_glutathione_metabolism',\n",
       " 'all_cholesterol-homeostasis',\n",
       " 'all_peroxisome-component',\n",
       " 'all_MET_metabolism',\n",
       " 'all_nucleophagy-late',\n",
       " 'CD4-T_TH2_UP',\n",
       " 'all_pyrimidine_synthesis',\n",
       " 'all_transmembrane-transport-lysosome',\n",
       " 'CD4-T_TH9_UP',\n",
       " 'all_MYC_targets',\n",
       " 'Mac_IFNG_response',\n",
       " 'all_mitophagy',\n",
       " 'all_autophagy_regulation_positive',\n",
       " 'all_sphingolipid_metabolism',\n",
       " 'lung-epi_IL4_response',\n",
       " 'endo_VEGFC_response',\n",
       " 'all_fatty-acid-metabolism',\n",
       " 'all_triacylglycerol_synthesis',\n",
       " 'all_thrombolysis-factor_production',\n",
       " 'CD4-T_TH22_UP',\n",
       " 'TNK_cytotoxicity-effectors',\n",
       " 'all_amino-sugar-nucleotide-sugar_metabolism',\n",
       " 'all_cyclic-nucleotide_metabolism',\n",
       " 'all_keratan-sulfate_synthesis',\n",
       " 'all_mitotic-spindle-component',\n",
       " 'all_chondroitine-sulfate_degradation',\n",
       " 'Mac_CSF1_response',\n",
       " 'all_fructose-mannose_metabolism',\n",
       " 'all_fatty-acid-beta-oxidation-peroxisomal',\n",
       " 'Mac_IL4-IL13_response',\n",
       " 'CD8-T_IL12_response',\n",
       " 'all_phosphoinositide_signaling',\n",
       " 'TNK_IL2-STAT5-signaling',\n",
       " 'Mac_LPS_response',\n",
       " 'all_autophagy-chaperone-mediated',\n",
       " 'all_ascorbate-uptake',\n",
       " 'all_ketone-body_metabolism',\n",
       " 'all_keratan-sulfate_degradation',\n",
       " 'all_autophagic-cell-death',\n",
       " 'all_GABA-shunt',\n",
       " 'B_effector-2_UP',\n",
       " 'all_reticulophagy',\n",
       " 'all_MHC-I-presentation',\n",
       " 'all_cholesterol_metabolism',\n",
       " 'all_apoptosis',\n",
       " 'all_autophagy-nucleus',\n",
       " 'all_ALA-ASP_metabolism',\n",
       " 'all_ROS-detoxification',\n",
       " 'all_xenobiotics_metabolism',\n",
       " 'all_purine_metabolism',\n",
       " 'DC_LPS_response',\n",
       " 'all_bile-acid_synthesis',\n",
       " 'all_CoA_synthesis',\n",
       " 'DC_antigen-crosspresentation',\n",
       " 'all_multidrug-resistance',\n",
       " 'all_osmotic-stress-response',\n",
       " 'all_HIS_metabolism',\n",
       " 'TNK_IL2_response',\n",
       " 'all_G1S-transition',\n",
       " 'all_pterin_synthesis',\n",
       " 'all_selenoamino-acid_metabolism',\n",
       " 'all_oxidative-phosphorylation',\n",
       " 'all_purine_synthesis',\n",
       " 'all_TRP_metabolism',\n",
       " 'CD8-T_tumor-reactive-like_UP',\n",
       " 'all_glycolysis',\n",
       " 'all_cytosolic-DNA-sensing_signaling',\n",
       " 'all_pyruvate_metabolism',\n",
       " 'endo_VEGFA_response',\n",
       " 'all_NAD_metabolism',\n",
       " 'all_coagulation-factor_production',\n",
       " 'all_TCA-cycle',\n",
       " 'all_ros_response',\n",
       " 'lung-epi_IL17A-IL22_response',\n",
       " 'all_transmembrane-transport-mitochondrial',\n",
       " 'all_o-glycan_synthesis',\n",
       " 'all_DNA_synthesis',\n",
       " 'fibro_IL13_response',\n",
       " 'all_glycerin-SER-THR_metabolism',\n",
       " 'fibro_IL1B_response',\n",
       " 'leuko_ROS_production',\n",
       " 'all_carnitine-shuttle',\n",
       " 'all_ethanol_metabolism',\n",
       " 'all_TGFb_response',\n",
       " 'B_effector-1_UP',\n",
       " 'TNK_PD-1_signaling',\n",
       " 'all_TLR_signaling',\n",
       " 'mast_mast-cell-granule-effectors',\n",
       " 'all_fatty-acid_synthesis',\n",
       " 'fibro_TGFB1_response',\n",
       " 'NK_IL15_response',\n",
       " 'all_folate_metabolism',\n",
       " 'all_CYP_metabolism',\n",
       " 'T_IL21_response',\n",
       " 'p-DC_CpG-TLR9_response',\n",
       " 'all_NOD-like-receptor_signaling',\n",
       " 'all_eicosanoid_metabolism',\n",
       " 'CD4-T_IL12_response',\n",
       " 'all_fatty-acid-beta-oxidation-mitochondrial',\n",
       " 'all_posttranslation-modification',\n",
       " 'all_transmembrane-transport-cellmembrane']"
      ]
     },
     "execution_count": 14,
     "metadata": {},
     "output_type": "execute_result"
    }
   ],
   "source": [
    "list(G.processes.keys())"
   ]
  },
  {
   "cell_type": "code",
   "execution_count": 15,
   "id": "0e387f5c",
   "metadata": {},
   "outputs": [],
   "source": [
    "gene_set_dir = \"../data/gene_sets/\""
   ]
  },
  {
   "cell_type": "code",
   "execution_count": null,
   "id": "3835515f",
   "metadata": {},
   "outputs": [],
   "source": [
    "with open (gene_set_dir + \"cytopus_processes.txt\", 'w') as f:\n",
    "\n",
    "    for gs in G.processes.keys():\n",
    "        gene_list = G.processes[gs]\n",
    "        line = \"\\t\".join(gene_list)\n",
    "        line = \"\\t\".join ([gs, line])\n",
    "        f.write(line + \"\\n\")"
   ]
  },
  {
   "cell_type": "code",
   "execution_count": 13,
   "id": "54ad65c9",
   "metadata": {
    "scrolled": true
   },
   "outputs": [
    {
     "data": {
      "text/plain": [
       "dict_keys(['TCM', 'Treg', 'T-naive', 'B-pb-t2', 'endo-lymphatic', 'TSCM', 'cDC1', 'ILC1', 'NK-adaptive', 'TEM', 'FDC', 'endo-systemic-venous', 'endo-aerocyte', 'CD56bright-NK', 'plasma-blast', 'CD8-T_KLRG1pos-effector', 'p-DC', 'mast', 'B-memory-DN', 'B-naive', 'CD4-T', 'B-pb-t3', 'B', 'B-pb-mature', 'Mac', 'gran', 'cDC2', 'CD56dim-NK', 'TRM', 'Lti', 'ILC3-NCRpos', 'abT', 'TFH', 'mono', 'CD8-T_KLRG1neg-effector', 'B-memory-IgM-MZ', 'cDC3', 'B-memory-switched', 'ILC3-NCRneg', 'Langerhans', 'mo-DC', 'endo-arterial', 'ILC2', 'plasma', 'B-pb-t1', 'lung-endo-venous', 'gdT', 'NK', 'capillary', 'CD8-T', 'B-memory', 'B-memory-non-switched', 'GC-B'])"
      ]
     },
     "execution_count": 13,
     "metadata": {},
     "output_type": "execute_result"
    }
   ],
   "source": [
    "G.identities.keys()"
   ]
  },
  {
   "cell_type": "code",
   "execution_count": 20,
   "id": "573ae0d6",
   "metadata": {},
   "outputs": [],
   "source": [
    "import os"
   ]
  },
  {
   "cell_type": "code",
   "execution_count": 22,
   "id": "72ba3ddf",
   "metadata": {},
   "outputs": [
    {
     "data": {
      "text/plain": [
       "'/home/ahakobyan/ClusterProjects/realGit/SA_Quantseq2/scripts'"
      ]
     },
     "execution_count": 22,
     "metadata": {},
     "output_type": "execute_result"
    }
   ],
   "source": [
    "os.getcwd()"
   ]
  },
  {
   "cell_type": "code",
   "execution_count": 25,
   "id": "0001c897",
   "metadata": {},
   "outputs": [
    {
     "data": {
      "text/plain": [
       "['LTA', 'CXCL13', 'BCL6', 'TCF3', 'CD38', 'TLR4', 'MKI67', 'AICDA']"
      ]
     },
     "execution_count": 25,
     "metadata": {},
     "output_type": "execute_result"
    }
   ],
   "source": [
    "gene_list"
   ]
  },
  {
   "cell_type": "code",
   "execution_count": 28,
   "id": "540c34df",
   "metadata": {},
   "outputs": [
    {
     "data": {
      "text/plain": [
       "'GC-B\\tLTA\\tCXCL13\\tBCL6\\tTCF3\\tCD38\\tTLR4\\tMKI67\\tAICDA'"
      ]
     },
     "execution_count": 28,
     "metadata": {},
     "output_type": "execute_result"
    }
   ],
   "source": [
    "line"
   ]
  },
  {
   "cell_type": "code",
   "execution_count": 29,
   "id": "c685f5bf",
   "metadata": {},
   "outputs": [],
   "source": [
    "with open (gene_set_dir + \"cytopus_immune_identities.txt\", 'w') as f:\n",
    "\n",
    "    for gs in G.identities.keys():\n",
    "        gene_list = G.identities[gs]\n",
    "        line = \"\\t\".join(gene_list)\n",
    "        line = \"\\t\".join ([gs, line])\n",
    "        f.write(line + \"\\n\")"
   ]
  }
 ],
 "metadata": {
  "kernelspec": {
   "display_name": "Python 3 (ipykernel)",
   "language": "python",
   "name": "python3"
  },
  "language_info": {
   "codemirror_mode": {
    "name": "ipython",
    "version": 3
   },
   "file_extension": ".py",
   "mimetype": "text/x-python",
   "name": "python",
   "nbconvert_exporter": "python",
   "pygments_lexer": "ipython3",
   "version": "3.10.12"
  }
 },
 "nbformat": 4,
 "nbformat_minor": 5
}
